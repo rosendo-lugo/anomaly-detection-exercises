{
 "cells": [
  {
   "cell_type": "markdown",
   "id": "28f91d38-c255-4625-85b4-0ee41a18e994",
   "metadata": {},
   "source": [
    "# Anomaly Detection"
   ]
  },
  {
   "cell_type": "markdown",
   "id": "fd0f2aeb-b2d4-4c55-8ee1-9df3a8962f06",
   "metadata": {},
   "source": [
    "# Continuous Variable Probabilistic Methods for Identifying Outliers"
   ]
  },
  {
   "cell_type": "markdown",
   "id": "eae3574c-86f1-4672-881c-cd291bbac4bc",
   "metadata": {},
   "source": [
    "## Exercises\n",
    "Using the repo setup directions, setup a new local and remote repository named anomaly-detection-exercises. The local version of your repo should live inside of ~/codeup-data-science. This repo should be named anomaly-detection-exercises\n",
    "\n",
    "Save this work in your anomaly-detection-exercises repo. Then add, commit, and push your changes.\n",
    "\n"
   ]
  },
  {
   "cell_type": "markdown",
   "id": "4b63baf9-cd7f-4ba1-9445-46c30a953a58",
   "metadata": {},
   "source": [
    "continuous_probabilistic_methods.py or continuous_probabilistic_methods.ipynb \n",
    "\n",
    "1. Define a function named get_lower_and_upper_bounds that has two arguments. The first argument is a pandas Series. The second argument is the multiplier, which should have a default argument of 1.5."
   ]
  },
  {
   "cell_type": "markdown",
   "id": "9e15b461-447f-4d6b-a25c-07a86aea5505",
   "metadata": {},
   "source": [
    "## Imports"
   ]
  },
  {
   "cell_type": "code",
   "execution_count": 1,
   "id": "8f5fa26c-cbb0-4593-8b38-544077d8ce17",
   "metadata": {},
   "outputs": [],
   "source": [
    "# standard imports\n",
    "import numpy as np\n",
    "import pandas as pd\n",
    "\n",
    "# my imports\n",
    "import wrangle as w\n",
    "import explore as e\n",
    "\n",
    "# visualization imports\n",
    "import seaborn as sns\n",
    "import matplotlib.pyplot as plt\n",
    "%matplotlib inline"
   ]
  },
  {
   "cell_type": "code",
   "execution_count": 2,
   "id": "468dde69-0eb7-4ea6-9097-27d06175a965",
   "metadata": {},
   "outputs": [],
   "source": [
    "def outlier(df, feature, m=1.5):\n",
    "    '''\n",
    "    outlier will take in a dataframe's feature:\n",
    "    - calculate it's 1st & 3rd quartiles,\n",
    "    - use their difference to calculate the IQR\n",
    "    - then apply to calculate upper and lower bounds\n",
    "    - using the `m` multiplier\n",
    "    '''\n",
    "    q1 = df[feature].quantile(.25)\n",
    "    q3 = df[feature].quantile(.75)\n",
    "    \n",
    "    iqr = q3 - q1\n",
    "    \n",
    "    multiplier = m\n",
    "    upper_bound = q3 + (multiplier * iqr)\n",
    "    lower_bound = q1 - (multiplier * iqr)\n",
    "    \n",
    "    return upper_bound, lower_bound"
   ]
  },
  {
   "cell_type": "markdown",
   "id": "09b544b0-a6f6-4219-9a47-20ef92594e3e",
   "metadata": {},
   "source": [
    "### 1. Using lemonade.csv dataset and focusing on continuous variables:"
   ]
  },
  {
   "cell_type": "code",
   "execution_count": 3,
   "id": "099f6c92-c392-4407-8057-b5b8b70eefdc",
   "metadata": {},
   "outputs": [],
   "source": [
    "url = \"https://gist.githubusercontent.com/ryanorsinger/19bc7eccd6279661bd13307026628ace/raw/e4b5d6787015a4782f96cad6d1d62a8bdbac54c7/lemonade.csv\""
   ]
  },
  {
   "cell_type": "code",
   "execution_count": 4,
   "id": "2448be87-fd1b-4e1c-b4d4-e3ad6200387c",
   "metadata": {},
   "outputs": [],
   "source": [
    "df = pd.read_csv(url)"
   ]
  },
  {
   "cell_type": "code",
   "execution_count": 5,
   "id": "a023550e-97b6-4d3f-941b-2c4153af88cd",
   "metadata": {},
   "outputs": [
    {
     "name": "stdout",
     "output_type": "stream",
     "text": [
      "data shape: (365, 7)\n"
     ]
    },
    {
     "data": {
      "text/html": [
       "<div>\n",
       "<style scoped>\n",
       "    .dataframe tbody tr th:only-of-type {\n",
       "        vertical-align: middle;\n",
       "    }\n",
       "\n",
       "    .dataframe tbody tr th {\n",
       "        vertical-align: top;\n",
       "    }\n",
       "\n",
       "    .dataframe thead th {\n",
       "        text-align: right;\n",
       "    }\n",
       "</style>\n",
       "<table border=\"1\" class=\"dataframe\">\n",
       "  <thead>\n",
       "    <tr style=\"text-align: right;\">\n",
       "      <th></th>\n",
       "      <th>data type</th>\n",
       "      <th>#missing</th>\n",
       "      <th>%missing</th>\n",
       "      <th>#unique</th>\n",
       "      <th>count</th>\n",
       "      <th>mean</th>\n",
       "      <th>std</th>\n",
       "      <th>min</th>\n",
       "      <th>25%</th>\n",
       "      <th>50%</th>\n",
       "      <th>75%</th>\n",
       "      <th>max</th>\n",
       "      <th>first_value</th>\n",
       "      <th>second_value</th>\n",
       "      <th>third_value</th>\n",
       "    </tr>\n",
       "  </thead>\n",
       "  <tbody>\n",
       "    <tr>\n",
       "      <th>date</th>\n",
       "      <td>object</td>\n",
       "      <td>0</td>\n",
       "      <td>0.0</td>\n",
       "      <td>365</td>\n",
       "      <td>365</td>\n",
       "      <td>NaN</td>\n",
       "      <td>NaN</td>\n",
       "      <td>NaN</td>\n",
       "      <td>NaN</td>\n",
       "      <td>NaN</td>\n",
       "      <td>NaN</td>\n",
       "      <td>NaN</td>\n",
       "      <td>1/1/17</td>\n",
       "      <td>1/2/17</td>\n",
       "      <td>1/3/17</td>\n",
       "    </tr>\n",
       "    <tr>\n",
       "      <th>day</th>\n",
       "      <td>object</td>\n",
       "      <td>0</td>\n",
       "      <td>0.0</td>\n",
       "      <td>7</td>\n",
       "      <td>365</td>\n",
       "      <td>NaN</td>\n",
       "      <td>NaN</td>\n",
       "      <td>NaN</td>\n",
       "      <td>NaN</td>\n",
       "      <td>NaN</td>\n",
       "      <td>NaN</td>\n",
       "      <td>NaN</td>\n",
       "      <td>Sunday</td>\n",
       "      <td>Monday</td>\n",
       "      <td>Tuesday</td>\n",
       "    </tr>\n",
       "    <tr>\n",
       "      <th>temperature</th>\n",
       "      <td>float64</td>\n",
       "      <td>0</td>\n",
       "      <td>0.0</td>\n",
       "      <td>176</td>\n",
       "      <td>365.0</td>\n",
       "      <td>61.224658</td>\n",
       "      <td>18.085892</td>\n",
       "      <td>15.1</td>\n",
       "      <td>49.7</td>\n",
       "      <td>61.1</td>\n",
       "      <td>71.7</td>\n",
       "      <td>212.0</td>\n",
       "      <td>27.0</td>\n",
       "      <td>28.9</td>\n",
       "      <td>34.5</td>\n",
       "    </tr>\n",
       "    <tr>\n",
       "      <th>rainfall</th>\n",
       "      <td>float64</td>\n",
       "      <td>0</td>\n",
       "      <td>0.0</td>\n",
       "      <td>35</td>\n",
       "      <td>365.0</td>\n",
       "      <td>0.825973</td>\n",
       "      <td>0.27389</td>\n",
       "      <td>0.4</td>\n",
       "      <td>0.65</td>\n",
       "      <td>0.74</td>\n",
       "      <td>0.91</td>\n",
       "      <td>2.5</td>\n",
       "      <td>2.0</td>\n",
       "      <td>1.33</td>\n",
       "      <td>1.33</td>\n",
       "    </tr>\n",
       "    <tr>\n",
       "      <th>flyers</th>\n",
       "      <td>int64</td>\n",
       "      <td>0</td>\n",
       "      <td>0.0</td>\n",
       "      <td>63</td>\n",
       "      <td>365.0</td>\n",
       "      <td>40.10411</td>\n",
       "      <td>13.786445</td>\n",
       "      <td>-38.0</td>\n",
       "      <td>31.0</td>\n",
       "      <td>39.0</td>\n",
       "      <td>49.0</td>\n",
       "      <td>80.0</td>\n",
       "      <td>15</td>\n",
       "      <td>15</td>\n",
       "      <td>27</td>\n",
       "    </tr>\n",
       "    <tr>\n",
       "      <th>price</th>\n",
       "      <td>float64</td>\n",
       "      <td>0</td>\n",
       "      <td>0.0</td>\n",
       "      <td>1</td>\n",
       "      <td>365.0</td>\n",
       "      <td>0.5</td>\n",
       "      <td>0.0</td>\n",
       "      <td>0.5</td>\n",
       "      <td>0.5</td>\n",
       "      <td>0.5</td>\n",
       "      <td>0.5</td>\n",
       "      <td>0.5</td>\n",
       "      <td>0.5</td>\n",
       "      <td>0.5</td>\n",
       "      <td>0.5</td>\n",
       "    </tr>\n",
       "    <tr>\n",
       "      <th>sales</th>\n",
       "      <td>int64</td>\n",
       "      <td>0</td>\n",
       "      <td>0.0</td>\n",
       "      <td>39</td>\n",
       "      <td>365.0</td>\n",
       "      <td>27.865753</td>\n",
       "      <td>30.948132</td>\n",
       "      <td>7.0</td>\n",
       "      <td>20.0</td>\n",
       "      <td>25.0</td>\n",
       "      <td>30.0</td>\n",
       "      <td>534.0</td>\n",
       "      <td>10</td>\n",
       "      <td>13</td>\n",
       "      <td>15</td>\n",
       "    </tr>\n",
       "  </tbody>\n",
       "</table>\n",
       "</div>"
      ],
      "text/plain": [
       "            data type  #missing  %missing  #unique  count       mean  \\\n",
       "date           object         0       0.0      365    365        NaN   \n",
       "day            object         0       0.0        7    365        NaN   \n",
       "temperature   float64         0       0.0      176  365.0  61.224658   \n",
       "rainfall      float64         0       0.0       35  365.0   0.825973   \n",
       "flyers          int64         0       0.0       63  365.0   40.10411   \n",
       "price         float64         0       0.0        1  365.0        0.5   \n",
       "sales           int64         0       0.0       39  365.0  27.865753   \n",
       "\n",
       "                   std   min   25%   50%   75%    max first_value  \\\n",
       "date               NaN   NaN   NaN   NaN   NaN    NaN      1/1/17   \n",
       "day                NaN   NaN   NaN   NaN   NaN    NaN      Sunday   \n",
       "temperature  18.085892  15.1  49.7  61.1  71.7  212.0        27.0   \n",
       "rainfall       0.27389   0.4  0.65  0.74  0.91    2.5         2.0   \n",
       "flyers       13.786445 -38.0  31.0  39.0  49.0   80.0          15   \n",
       "price              0.0   0.5   0.5   0.5   0.5    0.5         0.5   \n",
       "sales        30.948132   7.0  20.0  25.0  30.0  534.0          10   \n",
       "\n",
       "            second_value third_value  \n",
       "date              1/2/17      1/3/17  \n",
       "day               Monday     Tuesday  \n",
       "temperature         28.9        34.5  \n",
       "rainfall            1.33        1.33  \n",
       "flyers                15          27  \n",
       "price                0.5         0.5  \n",
       "sales                 13          15  "
      ]
     },
     "execution_count": 5,
     "metadata": {},
     "output_type": "execute_result"
    }
   ],
   "source": [
    "summary = w.data_summary(df)\n",
    "summary"
   ]
  },
  {
   "cell_type": "code",
   "execution_count": 6,
   "id": "86643bff-ffb3-4eca-8df3-1f8e8b57eb1f",
   "metadata": {},
   "outputs": [],
   "source": [
    "df.date = df.date.astype('datetime64')"
   ]
  },
  {
   "cell_type": "code",
   "execution_count": 7,
   "id": "735a6946-6262-4b1c-93e6-c0a7d60405e6",
   "metadata": {},
   "outputs": [],
   "source": [
    "df = df.set_index('date')"
   ]
  },
  {
   "cell_type": "markdown",
   "id": "4a0245f5-1842-45ec-ae61-4b0a40308239",
   "metadata": {},
   "source": [
    "#### Use the IQR Range Rule and the upper and lower bounds to identify the lower outliers of each column of lemonade.csv, using the multiplier of 1.5. Do these lower outliers make sense? Which outliers should be kept?"
   ]
  },
  {
   "cell_type": "code",
   "execution_count": 8,
   "id": "c7f98cb9-bfda-4191-8d3f-057b6a3c5d61",
   "metadata": {},
   "outputs": [],
   "source": [
    "object_cols = e.get_object_cols(df)"
   ]
  },
  {
   "cell_type": "code",
   "execution_count": 9,
   "id": "8dd93483-903e-4cba-b011-dffaa0859ad3",
   "metadata": {},
   "outputs": [],
   "source": [
    "num_cols = e.get_numeric_cols(df)"
   ]
  },
  {
   "cell_type": "code",
   "execution_count": 10,
   "id": "71df1107-4bcc-434a-8d38-d9a866b0511e",
   "metadata": {},
   "outputs": [],
   "source": [
    "def get_outliers_col(df):\n",
    "    # get only numeric columns\n",
    "    num_cols = e.get_numeric_cols(df)\n",
    "\n",
    "    # drop price as all the prices are the same\n",
    "    new_cols = num_cols.remove('price')\n",
    "\n",
    "    # total rows\n",
    "    orig_shape = df.shape[0]\n",
    "\n",
    "    for i in num_cols:\n",
    "        # finding the lower and upper bound outliers for num cols\n",
    "        col1UP, col1LOW = outlier(df,i)\n",
    "        df = df[(df[i] < col1UP) & (df[i] > col1LOW)]\n",
    "        col1 = df.shape[0]\n",
    "        print(f\"{i}: lower= {col1LOW}, upper= {col1UP}, new rows= {col1}\\n\")\n",
    "\n",
    "    new_shape = df.shape[0]\n",
    "    shape_rem = orig_shape-new_shape\n",
    "    print(f\"Total of rows originally: {orig_shape}\")\n",
    "    print(f\"Total of rows removed: {shape_rem}\")\n",
    "    print(f\"New total of rows: {new_shape}\")"
   ]
  },
  {
   "cell_type": "code",
   "execution_count": 11,
   "id": "39f825ac-9c51-4a3d-8dff-6decf8d6400f",
   "metadata": {},
   "outputs": [
    {
     "name": "stdout",
     "output_type": "stream",
     "text": [
      "temperature: lower= 16.700000000000003\n",
      "\n",
      "rainfall: lower= 0.26\n",
      "\n",
      "flyers: lower= 4.0\n",
      "\n",
      "price: lower= 0.5\n",
      "\n",
      "sales: lower= 5.0\n",
      "\n"
     ]
    }
   ],
   "source": [
    "# get only numeric columns\n",
    "num_cols = e.get_numeric_cols(df)\n",
    "\n",
    "for i in num_cols:\n",
    "    # finding the lower and upper bound outliers for num cols\n",
    "    col1UP, col1LOW = outlier(df,i)\n",
    "    col1 = df.shape[0]\n",
    "    print(f\"{i}: lower= {col1LOW}\\n\")"
   ]
  },
  {
   "cell_type": "code",
   "execution_count": 12,
   "id": "d309e500-62e0-4ce4-967c-ff114e09092d",
   "metadata": {
    "tags": []
   },
   "outputs": [
    {
     "name": "stdout",
     "output_type": "stream",
     "text": [
      "Handaling OUTLIERS\n",
      "temperature: lower= 16.700000000000003, upper= 104.7\n",
      "\n",
      "rainfall: lower= 0.26, upper= 1.3\n",
      "\n",
      "flyers: lower= 4.0, upper= 76.0\n",
      "\n",
      "price: lower= 0.5, upper= 0.5\n",
      "\n",
      "sales: lower= 5.0, upper= 45.0\n",
      "\n"
     ]
    }
   ],
   "source": [
    "# finding the lower and upper bound outliers for temperature\n",
    "temp_acUP, temp_acLOW = outlier(df,'temperature')\n",
    "\n",
    "# finding the lower and upper bound outliers for rainfall\n",
    "rain_UP, rain_LOW = outlier(df,'rainfall')\n",
    "\n",
    "# finding the lower and upper bound outliers for flyers\n",
    "fly_UP, fly_LOW = outlier(df,'flyers')\n",
    "\n",
    "# finding the lower and upper bound outliers for price\n",
    "priceUP, priceLOW = outlier(df,'price')\n",
    "\n",
    "# finding the lower and upper bound outliers for sales\n",
    "salesUP, salesLOW = outlier(df,'sales')\n",
    "\n",
    "\n",
    "print('Handaling OUTLIERS')\n",
    "print(f\"temperature: lower= {temp_acLOW}, upper= {temp_acUP}\\n\")\n",
    "print(f\"rainfall: lower= {rain_LOW}, upper= {rain_UP}\\n\")\n",
    "print(f\"flyers: lower= {fly_LOW}, upper= {fly_UP}\\n\")\n",
    "print(f\"price: lower= {priceLOW}, upper= {priceUP}\\n\")\n",
    "print(f\"sales: lower= {salesLOW}, upper= {salesUP}\\n\")"
   ]
  },
  {
   "cell_type": "markdown",
   "id": "f3b4204b-8605-443b-8086-444ee9f9597e",
   "metadata": {},
   "source": [
    "#### Use the IQR Range Rule and the upper and upper bounds to identify the upper outliers of each column of lemonade.csv, using the multiplier of 1.5. Do these upper outliers make sense? Which outliers should be kept?"
   ]
  },
  {
   "cell_type": "code",
   "execution_count": 13,
   "id": "85fb8b51-836e-4a99-980b-481b8c51e019",
   "metadata": {},
   "outputs": [
    {
     "name": "stdout",
     "output_type": "stream",
     "text": [
      "temperature: upper= 104.7\n",
      "\n",
      "rainfall: upper= 1.3\n",
      "\n",
      "flyers: upper= 76.0\n",
      "\n",
      "price: upper= 0.5\n",
      "\n",
      "sales: upper= 45.0\n",
      "\n"
     ]
    }
   ],
   "source": [
    "# get only numeric columns\n",
    "num_cols = e.get_numeric_cols(df)\n",
    "\n",
    "for i in num_cols:\n",
    "    # finding the lower and upper bound outliers for num cols\n",
    "    col1UP, col1LOW = outlier(df,i)\n",
    "    col1 = df.shape[0]\n",
    "    print(f\"{i}: upper= {col1UP}\\n\")"
   ]
  },
  {
   "cell_type": "code",
   "execution_count": 23,
   "id": "d05c261e-7dbc-42b0-81c1-f3c7a4952b9c",
   "metadata": {},
   "outputs": [
    {
     "data": {
      "text/plain": [
       "<AxesSubplot:>"
      ]
     },
     "execution_count": 23,
     "metadata": {},
     "output_type": "execute_result"
    },
    {
     "data": {
      "image/png": "[encoded data removed]",
      "text/plain": [
       "<Figure size 640x480 with 1 Axes>"
      ]
     },
     "metadata": {},
     "output_type": "display_data"
    }
   ],
   "source": [
    "df.boxplot()"
   ]
  },
  {
   "cell_type": "markdown",
   "id": "a0abb33e-2116-4a10-a5b8-262b8fb81a9f",
   "metadata": {},
   "source": [
    "#### Using the multiplier of 3, IQR Range Rule, and the lower bounds, identify the outliers below the lower bound in each colum of lemonade.csv. Do these lower outliers make sense? Which outliers should be kept?"
   ]
  },
  {
   "cell_type": "code",
   "execution_count": 14,
   "id": "38e4bb30-f277-4156-a4f6-b19c15e1b0fe",
   "metadata": {},
   "outputs": [],
   "source": [
    "def outlier(df, feature, m=3):\n",
    "    '''\n",
    "    outlier will take in a dataframe's feature:\n",
    "    - calculate it's 1st & 3rd quartiles,\n",
    "    - use their difference to calculate the IQR\n",
    "    - then apply to calculate upper and lower bounds\n",
    "    - using the `m` multiplier\n",
    "    '''\n",
    "    q1 = df[feature].quantile(.25)\n",
    "    q3 = df[feature].quantile(.75)\n",
    "    \n",
    "    iqr = q3 - q1\n",
    "    \n",
    "    multiplier = m\n",
    "    upper_bound = q3 + (multiplier * iqr)\n",
    "    lower_bound = q1 - (multiplier * iqr)\n",
    "    \n",
    "    return upper_bound, lower_bound"
   ]
  },
  {
   "cell_type": "code",
   "execution_count": 15,
   "id": "74343b8b-2565-45b9-9d2f-250bc0a0c9cd",
   "metadata": {
    "tags": []
   },
   "outputs": [
    {
     "name": "stdout",
     "output_type": "stream",
     "text": [
      "Handaling OUTLIERS\n",
      "temperature: lower= -16.299999999999997, upper= 137.7\n",
      "\n",
      "rainfall: lower= -0.13, upper= 1.69\n",
      "\n",
      "flyers: lower= -23.0, upper= 103.0\n",
      "\n",
      "price: lower= 0.5, upper= 0.5\n",
      "\n",
      "sales: lower= -10.0, upper= 60.0\n",
      "\n"
     ]
    }
   ],
   "source": [
    "# finding the lower and upper bound outliers for temperature\n",
    "temp_acUP, temp_acLOW = outlier(df,'temperature')\n",
    "\n",
    "# finding the lower and upper bound outliers for rainfall\n",
    "rain_UP, rain_LOW = outlier(df,'rainfall')\n",
    "\n",
    "# finding the lower and upper bound outliers for flyers\n",
    "fly_UP, fly_LOW = outlier(df,'flyers')\n",
    "\n",
    "# finding the lower and upper bound outliers for price\n",
    "priceUP, priceLOW = outlier(df,'price')\n",
    "\n",
    "# finding the lower and upper bound outliers for sales\n",
    "salesUP, salesLOW = outlier(df,'sales')\n",
    "\n",
    "\n",
    "print('Handaling OUTLIERS')\n",
    "print(f\"temperature: lower= {temp_acLOW}, upper= {temp_acUP}\\n\")\n",
    "print(f\"rainfall: lower= {rain_LOW}, upper= {rain_UP}\\n\")\n",
    "print(f\"flyers: lower= {fly_LOW}, upper= {fly_UP}\\n\")\n",
    "print(f\"price: lower= {priceLOW}, upper= {priceUP}\\n\")\n",
    "print(f\"sales: lower= {salesLOW}, upper= {salesUP}\\n\")"
   ]
  },
  {
   "cell_type": "code",
   "execution_count": 16,
   "id": "bceea8ab-cd78-49f8-bd11-aaed41fa6fb0",
   "metadata": {},
   "outputs": [
    {
     "name": "stdout",
     "output_type": "stream",
     "text": [
      "temperature: lower= -16.299999999999997\n",
      "\n",
      "rainfall: lower= -0.13\n",
      "\n",
      "flyers: lower= -23.0\n",
      "\n",
      "price: lower= 0.5\n",
      "\n",
      "sales: lower= -10.0\n",
      "\n"
     ]
    }
   ],
   "source": [
    "# get only numeric columns\n",
    "num_cols = e.get_numeric_cols(df)\n",
    "\n",
    "for i in num_cols:\n",
    "    # finding the lower and upper bound outliers for num cols\n",
    "    col1UP, col1LOW = outlier(df,i)\n",
    "    col1 = df.shape[0]\n",
    "    print(f\"{i}: lower= {col1LOW}\\n\")"
   ]
  },
  {
   "cell_type": "markdown",
   "id": "a86e1b2b-fb9e-4984-a2e3-22a90b390233",
   "metadata": {},
   "source": [
    "#### Using the multiplier of 3, IQR Range Rule, and the upper bounds, identify the outliers above the upper_bound in each colum of lemonade.csv. Do these upper outliers make sense? Which outliers should be kept?"
   ]
  },
  {
   "cell_type": "code",
   "execution_count": 17,
   "id": "407ff95f-3e4f-455c-aa78-d09ae8f53a28",
   "metadata": {},
   "outputs": [
    {
     "name": "stdout",
     "output_type": "stream",
     "text": [
      "temperature: upper= 137.7\n",
      "\n",
      "rainfall: upper= 1.69\n",
      "\n",
      "flyers: upper= 103.0\n",
      "\n",
      "price: upper= 0.5\n",
      "\n",
      "sales: upper= 60.0\n",
      "\n"
     ]
    }
   ],
   "source": [
    "# get only numeric columns\n",
    "num_cols = e.get_numeric_cols(df)\n",
    "\n",
    "for i in num_cols:\n",
    "    # finding the lower and upper bound outliers for num cols\n",
    "    col1UP, col1LOW = outlier(df,i)\n",
    "    col1 = df.shape[0]\n",
    "    print(f\"{i}: upper= {col1UP}\\n\")"
   ]
  },
  {
   "cell_type": "markdown",
   "id": "e19de4d5-ebd1-477b-930f-6377d867fa56",
   "metadata": {},
   "source": [
    "### 2. Identify if any columns in lemonade.csv are normally distributed. For normally distributed columns:\n",
    "\n",
    "- Use a 2 sigma decision rule to isolate the outliers.\n",
    "\n",
    "> Do these make sense?\n",
    ">Should certain outliers be kept or removed?\n"
   ]
  },
  {
   "cell_type": "code",
   "execution_count": 25,
   "id": "30d35524-c018-4096-95e7-c782713196f9",
   "metadata": {},
   "outputs": [
    {
     "ename": "AttributeError",
     "evalue": "'AxesSubplot' object has no attribute 'bin'",
     "output_type": "error",
     "traceback": [
      "\u001b[0;31m---------------------------------------------------------------------------\u001b[0m",
      "\u001b[0;31mAttributeError\u001b[0m                            Traceback (most recent call last)",
      "Input \u001b[0;32mIn [25]\u001b[0m, in \u001b[0;36m<cell line: 1>\u001b[0;34m()\u001b[0m\n\u001b[1;32m      1\u001b[0m \u001b[38;5;28;01mfor\u001b[39;00m col \u001b[38;5;129;01min\u001b[39;00m df\u001b[38;5;241m.\u001b[39mcolumns:\n\u001b[1;32m      2\u001b[0m     \u001b[38;5;66;03m# print(col)\u001b[39;00m\n\u001b[0;32m----> 3\u001b[0m     \u001b[43mdf\u001b[49m\u001b[43m[\u001b[49m\u001b[43mcol\u001b[49m\u001b[43m]\u001b[49m\u001b[38;5;241;43m.\u001b[39;49m\u001b[43mhist\u001b[49m\u001b[43m(\u001b[49m\u001b[43m)\u001b[49m\u001b[38;5;241;43m.\u001b[39;49m\u001b[43mbin\u001b[49m(\u001b[38;5;241m10\u001b[39m)\n\u001b[1;32m      4\u001b[0m     plt\u001b[38;5;241m.\u001b[39mtitle(col)\n\u001b[1;32m      5\u001b[0m     plt\u001b[38;5;241m.\u001b[39mshow\n",
      "\u001b[0;31mAttributeError\u001b[0m: 'AxesSubplot' object has no attribute 'bin'"
     ]
    },
    {
     "data": {
      "image/png": "[encoded data removed]",
      "text/plain": [
       "<Figure size 640x480 with 1 Axes>"
      ]
     },
     "metadata": {},
     "output_type": "display_data"
    }
   ],
   "source": [
    "for col in df.columns:\n",
    "    # print(col)\n",
    "    df[col].hist()\n",
    "    plt.title(col)\n",
    "    plt.show"
   ]
  },
  {
   "cell_type": "code",
   "execution_count": 18,
   "id": "c3798a18-77d5-47d2-8315-ab4d04fdafaf",
   "metadata": {},
   "outputs": [
    {
     "data": {
      "image/png": "[encoded data removed]",
      "text/plain": [
       "<Figure size 800x600 with 1 Axes>"
      ]
     },
     "metadata": {},
     "output_type": "display_data"
    }
   ],
   "source": [
    "# Checking the distribution of lemonade.csc\n",
    "plt.figure(figsize=(8, 6))\n",
    "sns.histplot(df)\n",
    "plt.title('Distribution')\n",
    "plt.show()"
   ]
  },
  {
   "cell_type": "code",
   "execution_count": 19,
   "id": "3f80e0a0-141e-4917-9c85-73c3b984387b",
   "metadata": {
    "scrolled": true,
    "tags": []
   },
   "outputs": [
    {
     "data": {
      "image/png": "[encoded data removed]",
      "text/plain": [
       "<Figure size 200x200 with 1 Axes>"
      ]
     },
     "metadata": {},
     "output_type": "display_data"
    },
    {
     "name": "stdout",
     "output_type": "stream",
     "text": [
      "                 day  Count  Percent\n",
      "Sunday        Sunday     53    14.52\n",
      "Monday        Monday     52    14.25\n",
      "Tuesday      Tuesday     52    14.25\n",
      "Wednesday  Wednesday     52    14.25\n",
      "Thursday    Thursday     52    14.25\n",
      "Friday        Friday     52    14.25\n",
      "Saturday    Saturday     52    14.25\n"
     ]
    },
    {
     "data": {
      "image/png": "[encoded data removed]",
      "text/plain": [
       "<Figure size 800x200 with 2 Axes>"
      ]
     },
     "metadata": {},
     "output_type": "display_data"
    },
    {
     "name": "stdout",
     "output_type": "stream",
     "text": [
      "count    365.000000\n",
      "mean      61.224658\n",
      "std       18.085892\n",
      "min       15.100000\n",
      "25%       49.700000\n",
      "50%       61.100000\n",
      "75%       71.700000\n",
      "max      212.000000\n",
      "Name: temperature, dtype: float64\n",
      "______________________________________________________________________________________\n"
     ]
    },
    {
     "data": {
      "image/png": "[encoded data removed]",
      "text/plain": [
       "<Figure size 800x200 with 2 Axes>"
      ]
     },
     "metadata": {},
     "output_type": "display_data"
    },
    {
     "name": "stdout",
     "output_type": "stream",
     "text": [
      "count    365.000000\n",
      "mean       0.825973\n",
      "std        0.273890\n",
      "min        0.400000\n",
      "25%        0.650000\n",
      "50%        0.740000\n",
      "75%        0.910000\n",
      "max        2.500000\n",
      "Name: rainfall, dtype: float64\n",
      "______________________________________________________________________________________\n"
     ]
    },
    {
     "data": {
      "image/png": "[encoded data removed]",
      "text/plain": [
       "<Figure size 800x200 with 2 Axes>"
      ]
     },
     "metadata": {},
     "output_type": "display_data"
    },
    {
     "name": "stdout",
     "output_type": "stream",
     "text": [
      "count    365.000000\n",
      "mean      40.104110\n",
      "std       13.786445\n",
      "min      -38.000000\n",
      "25%       31.000000\n",
      "50%       39.000000\n",
      "75%       49.000000\n",
      "max       80.000000\n",
      "Name: flyers, dtype: float64\n",
      "______________________________________________________________________________________\n"
     ]
    },
    {
     "data": {
      "image/png": "[encoded data removed]",
      "text/plain": [
       "<Figure size 800x200 with 2 Axes>"
      ]
     },
     "metadata": {},
     "output_type": "display_data"
    },
    {
     "name": "stdout",
     "output_type": "stream",
     "text": [
      "count    365.0\n",
      "mean       0.5\n",
      "std        0.0\n",
      "min        0.5\n",
      "25%        0.5\n",
      "50%        0.5\n",
      "75%        0.5\n",
      "max        0.5\n",
      "Name: price, dtype: float64\n",
      "______________________________________________________________________________________\n"
     ]
    },
    {
     "data": {
      "image/png": "[encoded data removed]",
      "text/plain": [
       "<Figure size 800x200 with 2 Axes>"
      ]
     },
     "metadata": {},
     "output_type": "display_data"
    },
    {
     "name": "stdout",
     "output_type": "stream",
     "text": [
      "count    365.000000\n",
      "mean      27.865753\n",
      "std       30.948132\n",
      "min        7.000000\n",
      "25%       20.000000\n",
      "50%       25.000000\n",
      "75%       30.000000\n",
      "max      534.000000\n",
      "Name: sales, dtype: float64\n",
      "______________________________________________________________________________________\n"
     ]
    }
   ],
   "source": [
    "e.explore_univariate(df, object_cols, num_cols)"
   ]
  },
  {
   "cell_type": "code",
   "execution_count": 20,
   "id": "791065db-ca9a-4608-9512-3fc5338219e5",
   "metadata": {},
   "outputs": [
    {
     "data": {
      "text/plain": [
       "date\n",
       "2017-01-11    188.416330\n",
       "2017-02-05    -40.297447\n",
       "2017-03-04    163.404005\n",
       "2017-05-11    142.235701\n",
       "2017-05-29    146.294126\n",
       "2017-06-10    165.456918\n",
       "2017-07-26    133.313534\n",
       "2017-07-31    -47.087453\n",
       "2017-08-03    -30.023617\n",
       "2017-08-12    133.872545\n",
       "2017-08-25    -30.387408\n",
       "2017-09-03    133.388600\n",
       "2017-09-25    132.698338\n",
       "2017-10-05    -38.282518\n",
       "2017-10-26    158.735675\n",
       "2017-11-24    -32.159003\n",
       "2017-12-15    -50.962761\n",
       "2017-12-27    -29.679610\n",
       "Name: temperature, dtype: float64"
      ]
     },
     "execution_count": 20,
     "metadata": {},
     "output_type": "execute_result"
    }
   ],
   "source": [
    "df.temperature = np.random.normal(50, 40, size=365)\n",
    "\n",
    "# Calculate the z-score \n",
    "zscores = pd.Series((df.temperature - df.temperature.mean()) / df.temperature.std())\n",
    "\n",
    "# Finds all of the observations two standard deviations or more.\n",
    "df.temperature[zscores.abs() >= 2]"
   ]
  },
  {
   "cell_type": "code",
   "execution_count": 27,
   "id": "025a6229-30ff-4571-8405-9d6af060cede",
   "metadata": {},
   "outputs": [],
   "source": [
    "normals = ['temperature', 'rainfall', 'flyers']"
   ]
  },
  {
   "cell_type": "code",
   "execution_count": 32,
   "id": "1ce93043-06b3-4d80-9bcb-88eb0489b3ce",
   "metadata": {},
   "outputs": [
    {
     "name": "stdout",
     "output_type": "stream",
     "text": [
      "| date                |   temperature |\n",
      "|:--------------------|--------------:|\n",
      "| 2017-01-02 00:00:00 |      131.931  |\n",
      "| 2017-01-06 00:00:00 |      130.339  |\n",
      "| 2017-01-10 00:00:00 |      157.898  |\n",
      "| 2017-01-22 00:00:00 |      134.602  |\n",
      "| 2017-01-24 00:00:00 |      132.413  |\n",
      "| 2017-01-30 00:00:00 |      -58.8228 |\n",
      "| 2017-02-16 00:00:00 |      133.463  |\n",
      "| 2017-02-23 00:00:00 |      -39.1175 |\n",
      "| 2017-03-06 00:00:00 |      -45.7691 |\n",
      "| 2017-04-03 00:00:00 |      -71.9102 |\n",
      "| 2017-05-06 00:00:00 |      -45.5141 |\n",
      "| 2017-05-14 00:00:00 |      -56.407  |\n",
      "| 2017-05-15 00:00:00 |      -43.4663 |\n",
      "| 2017-05-26 00:00:00 |      155.189  |\n",
      "| 2017-06-17 00:00:00 |      128.757  |\n",
      "| 2017-08-18 00:00:00 |      129.627  |\n",
      "| 2017-10-03 00:00:00 |      -50.3339 |\n",
      "| 2017-10-17 00:00:00 |      166.188  |\n",
      "| 2017-10-30 00:00:00 |      -48.519  |\n",
      "| 2017-11-23 00:00:00 |      -74.5387 |\n",
      "| 2017-12-12 00:00:00 |      -47.1827 |\n",
      "| date                |   rainfall |\n",
      "|:--------------------|-----------:|\n",
      "| 2017-01-01 00:00:00 |       2    |\n",
      "| 2017-01-06 00:00:00 |       1.54 |\n",
      "| 2017-01-07 00:00:00 |       1.54 |\n",
      "| 2017-01-11 00:00:00 |       1.54 |\n",
      "| 2017-01-16 00:00:00 |       1.67 |\n",
      "| 2017-01-17 00:00:00 |       1.43 |\n",
      "| 2017-01-20 00:00:00 |       1.43 |\n",
      "| 2017-01-24 00:00:00 |       1.54 |\n",
      "| 2017-12-04 00:00:00 |       1.54 |\n",
      "| 2017-12-05 00:00:00 |       1.82 |\n",
      "| 2017-12-09 00:00:00 |       1.43 |\n",
      "| 2017-12-10 00:00:00 |       1.82 |\n",
      "| 2017-12-13 00:00:00 |       1.43 |\n",
      "| 2017-12-14 00:00:00 |       1.54 |\n",
      "| 2017-12-18 00:00:00 |       1.43 |\n",
      "| 2017-12-22 00:00:00 |       1.54 |\n",
      "| 2017-12-26 00:00:00 |       1.43 |\n",
      "| 2017-12-30 00:00:00 |       1.43 |\n",
      "| 2017-12-31 00:00:00 |       2.5  |\n",
      "| date                |   flyers |\n",
      "|:--------------------|---------:|\n",
      "| 2017-06-16 00:00:00 |       77 |\n",
      "| 2017-06-20 00:00:00 |       70 |\n",
      "| 2017-06-21 00:00:00 |       76 |\n",
      "| 2017-07-02 00:00:00 |       68 |\n",
      "| 2017-07-03 00:00:00 |       68 |\n",
      "| 2017-07-14 00:00:00 |       80 |\n",
      "| 2017-07-18 00:00:00 |       76 |\n",
      "| 2017-07-23 00:00:00 |       72 |\n",
      "| 2017-07-24 00:00:00 |       69 |\n",
      "| 2017-07-27 00:00:00 |       74 |\n",
      "| 2017-11-21 00:00:00 |      -38 |\n",
      "| 2017-12-05 00:00:00 |       11 |\n",
      "| 2017-12-31 00:00:00 |        9 |\n"
     ]
    }
   ],
   "source": [
    "# df.[col] = np.random.normal(50, 40, size=365)\n",
    "for col in normals:\n",
    "    # Calculate the z-score \n",
    "    zscores = pd.Series((df[col] - df[col].mean()) / df[col].std())\n",
    "\n",
    "    # Finds all of the observations two standard deviations or more.\n",
    "    print(df[col][zscores.abs() >= 2].to_markdown())"
   ]
  },
  {
   "cell_type": "markdown",
   "id": "b0748eb9-8a9d-45a8-9893-5c3528071981",
   "metadata": {},
   "source": [
    "### 3. Now use a 3 sigma decision rule to isolate the outliers in the normally distributed columns from lemonade.csv"
   ]
  },
  {
   "cell_type": "code",
   "execution_count": 21,
   "id": "9a07709c-ab28-4818-8c44-d1142f3d7459",
   "metadata": {},
   "outputs": [
    {
     "data": {
      "text/plain": [
       "Series([], Name: temperature, dtype: float64)"
      ]
     },
     "execution_count": 21,
     "metadata": {},
     "output_type": "execute_result"
    }
   ],
   "source": [
    "df.temperature = np.random.normal(50, 40, size=365)\n",
    "\n",
    "# Calculate the z-score \n",
    "zscores = pd.Series((df.temperature - df.temperature.mean()) / df.temperature.std())\n",
    "\n",
    "# Finds all of the observations three standard deviations or more\n",
    "df.temperature[zscores.abs() >= 3]"
   ]
  },
  {
   "cell_type": "code",
   "execution_count": 33,
   "id": "e22fff46-ae93-47cd-9a62-9690ffdf8e49",
   "metadata": {},
   "outputs": [
    {
     "name": "stdout",
     "output_type": "stream",
     "text": [
      "| date   | temperature   |\n",
      "|--------|---------------|\n",
      "| date                |   rainfall |\n",
      "|:--------------------|-----------:|\n",
      "| 2017-01-01 00:00:00 |       2    |\n",
      "| 2017-01-16 00:00:00 |       1.67 |\n",
      "| 2017-12-05 00:00:00 |       1.82 |\n",
      "| 2017-12-10 00:00:00 |       1.82 |\n",
      "| 2017-12-31 00:00:00 |       2.5  |\n",
      "| date                |   flyers |\n",
      "|:--------------------|---------:|\n",
      "| 2017-11-21 00:00:00 |      -38 |\n"
     ]
    }
   ],
   "source": [
    "# df.[col] = np.random.normal(50, 40, size=365)\n",
    "for col in normals:\n",
    "    # Calculate the z-score \n",
    "    zscores = pd.Series((df[col] - df[col].mean()) / df[col].std())\n",
    "\n",
    "    # Finds all of the observations two standard deviations or more.\n",
    "    print(df[col][zscores.abs() >= 3].to_markdown())"
   ]
  },
  {
   "cell_type": "code",
   "execution_count": null,
   "id": "3cbcd2b6-2398-4740-b9a9-886669fa4b7b",
   "metadata": {},
   "outputs": [],
   "source": []
  }
 ],
 "metadata": {
  "kernelspec": {
   "display_name": "Python 3 (ipykernel)",
   "language": "python",
   "name": "python3"
  },
  "language_info": {
   "codemirror_mode": {
    "name": "ipython",
    "version": 3
   },
   "file_extension": ".py",
   "mimetype": "text/x-python",
   "name": "python",
   "nbconvert_exporter": "python",
   "pygments_lexer": "ipython3",
   "version": "3.9.13"
  }
 },
 "nbformat": 4,
 "nbformat_minor": 5
}
